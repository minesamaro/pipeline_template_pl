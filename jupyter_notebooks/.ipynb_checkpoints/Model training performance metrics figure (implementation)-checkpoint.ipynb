{
 "cells": [
  {
   "cell_type": "code",
   "execution_count": 1,
   "id": "dc002ffe",
   "metadata": {},
   "outputs": [],
   "source": [
    "from os.path import abspath, dirname, join\n",
    "import sys\n",
    "sys.path.append(abspath(join(dirname('.'), \"../\")))\n",
    "from src.modules.figures.model_training_performance_metrics_figure import (\n",
    "    ModelTrainingPerformanceMetricsFigure\n",
    ")"
   ]
  },
  {
   "cell_type": "code",
   "execution_count": 2,
   "id": "c754dba2",
   "metadata": {},
   "outputs": [],
   "source": [
    "# model_training_performance_metrics_figure = ModelTrainingPerformanceMetricsFigure(\n",
    "#     experiment_id=1,\n",
    "#     experiment_version_id=1\n",
    "# )\n",
    "# model_training_performance_metrics_figure.set()\n",
    "# model_training_performance_metrics_figure.plot()"
   ]
  },
  {
   "cell_type": "code",
   "execution_count": 3,
   "id": "9c143fdd",
   "metadata": {},
   "outputs": [
    {
     "name": "stdout",
     "output_type": "stream",
     "text": [
      "['version_1', 'Model_test_accuracy_results.html']\n",
      "['1']\n"
     ]
    }
   ],
   "source": [
    "from src.modules.results_analysis \\\n",
    "    .model_test_results_dataframe_html_generator import (\n",
    "        ModelTestResultsDataframeHTMLGenerator\n",
    "    )\n",
    "\n",
    "model_test_results_dataframe_html_generator = (\n",
    "    ModelTestResultsDataframeHTMLGenerator(\n",
    "        monitored_variables=[\"Validation AUC\", \"Validation loss\", \"Last epoch\"]\n",
    "    )\n",
    ")\n",
    "model_test_results_dataframe_html_generator.set_dataframe()\n",
    "model_test_results_dataframe_html_generator.export_dataframe_to_html()"
   ]
  }
 ],
 "metadata": {
  "kernelspec": {
   "display_name": "conda_venv",
   "language": "python",
   "name": "conda_venv"
  },
  "language_info": {
   "codemirror_mode": {
    "name": "ipython",
    "version": 3
   },
   "file_extension": ".py",
   "mimetype": "text/x-python",
   "name": "python",
   "nbconvert_exporter": "python",
   "pygments_lexer": "ipython3",
   "version": "3.11.5"
  }
 },
 "nbformat": 4,
 "nbformat_minor": 5
}
